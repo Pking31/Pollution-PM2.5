{
 "cells": [
  {
   "cell_type": "code",
   "execution_count": 1,
   "id": "7ca1d788",
   "metadata": {},
   "outputs": [],
   "source": [
    "import pandas as pd"
   ]
  },
  {
   "cell_type": "code",
   "execution_count": 2,
   "id": "bbf2184b",
   "metadata": {},
   "outputs": [],
   "source": [
    "df = pd.read_csv('D:\\OneDrive - NITT\\Custom_Download\\pol.csv')"
   ]
  },
  {
   "cell_type": "code",
   "execution_count": 4,
   "id": "dcf0e17d",
   "metadata": {},
   "outputs": [
    {
     "data": {
      "text/plain": [
       "No         int64\n",
       "year       int64\n",
       "month      int64\n",
       "day        int64\n",
       "hour       int64\n",
       "pm2.5    float64\n",
       "DEWP       int64\n",
       "TEMP     float64\n",
       "PRES     float64\n",
       "cbwd      object\n",
       "Iws      float64\n",
       "Is         int64\n",
       "Ir         int64\n",
       "dtype: object"
      ]
     },
     "execution_count": 4,
     "metadata": {},
     "output_type": "execute_result"
    }
   ],
   "source": [
    "df.dtypes"
   ]
  },
  {
   "cell_type": "code",
   "execution_count": 6,
   "id": "f2c41b4f",
   "metadata": {},
   "outputs": [
    {
     "data": {
      "text/plain": [
       "array(['NW', 'cv', 'NE', 'SE'], dtype=object)"
      ]
     },
     "execution_count": 6,
     "metadata": {},
     "output_type": "execute_result"
    }
   ],
   "source": [
    "df['cbwd'].unique()"
   ]
  },
  {
   "cell_type": "code",
   "execution_count": 8,
   "id": "14378131",
   "metadata": {},
   "outputs": [
    {
     "data": {
      "text/plain": [
       "No          0\n",
       "year        0\n",
       "month       0\n",
       "day         0\n",
       "hour        0\n",
       "pm2.5    2067\n",
       "DEWP        0\n",
       "TEMP        0\n",
       "PRES        0\n",
       "cbwd        0\n",
       "Iws         0\n",
       "Is          0\n",
       "Ir          0\n",
       "dtype: int64"
      ]
     },
     "execution_count": 8,
     "metadata": {},
     "output_type": "execute_result"
    }
   ],
   "source": [
    "df.isna().sum()"
   ]
  },
  {
   "cell_type": "code",
   "execution_count": 9,
   "id": "b82b72ec",
   "metadata": {},
   "outputs": [
    {
     "data": {
      "text/plain": [
       "(43824, 13)"
      ]
     },
     "execution_count": 9,
     "metadata": {},
     "output_type": "execute_result"
    }
   ],
   "source": [
    "df.shape"
   ]
  },
  {
   "cell_type": "code",
   "execution_count": 11,
   "id": "619a2c1b",
   "metadata": {},
   "outputs": [
    {
     "data": {
      "text/plain": [
       "4.716593647316539"
      ]
     },
     "execution_count": 11,
     "metadata": {},
     "output_type": "execute_result"
    }
   ],
   "source": [
    "2067*100/43824"
   ]
  },
  {
   "cell_type": "code",
   "execution_count": 13,
   "id": "1393c3be",
   "metadata": {},
   "outputs": [],
   "source": [
    "df.dropna(inplace=True)"
   ]
  },
  {
   "cell_type": "code",
   "execution_count": 14,
   "id": "69f35bc4",
   "metadata": {},
   "outputs": [
    {
     "data": {
      "text/plain": [
       "(41757, 13)"
      ]
     },
     "execution_count": 14,
     "metadata": {},
     "output_type": "execute_result"
    }
   ],
   "source": [
    "df.shape"
   ]
  },
  {
   "cell_type": "code",
   "execution_count": null,
   "id": "6461e11a",
   "metadata": {},
   "outputs": [],
   "source": [
    "No,"
   ]
  },
  {
   "cell_type": "code",
   "execution_count": 17,
   "id": "d5b0c5f7",
   "metadata": {},
   "outputs": [],
   "source": [
    "df.drop(['No'],axis=1,inplace=True)"
   ]
  },
  {
   "cell_type": "code",
   "execution_count": 22,
   "id": "fa57a798",
   "metadata": {},
   "outputs": [],
   "source": [
    "df.reset_index(drop=True,inplace=True)"
   ]
  },
  {
   "cell_type": "code",
   "execution_count": 24,
   "id": "1161c34d",
   "metadata": {},
   "outputs": [],
   "source": [
    "import datetime"
   ]
  },
  {
   "cell_type": "code",
   "execution_count": 33,
   "id": "4af88ae5",
   "metadata": {},
   "outputs": [],
   "source": [
    "df['date'] = pd.to_datetime(df[['year','month','day','hour']])"
   ]
  },
  {
   "cell_type": "code",
   "execution_count": 38,
   "id": "2dda77a2",
   "metadata": {},
   "outputs": [],
   "source": [
    "df.drop(columns=['year','month','day','hour'],inplace=True)"
   ]
  },
  {
   "cell_type": "code",
   "execution_count": 46,
   "id": "2d4beff8",
   "metadata": {},
   "outputs": [],
   "source": [
    "df.index = df['date']"
   ]
  },
  {
   "cell_type": "code",
   "execution_count": 48,
   "id": "21d89f9f",
   "metadata": {},
   "outputs": [],
   "source": [
    "df.drop(columns=['date'],inplace=True)"
   ]
  },
  {
   "cell_type": "code",
   "execution_count": 50,
   "id": "edb18274",
   "metadata": {},
   "outputs": [
    {
     "data": {
      "text/plain": [
       "['pm2.5', 'DEWP', 'TEMP', 'PRES', 'cbwd', 'Iws', 'Is', 'Ir']"
      ]
     },
     "execution_count": 50,
     "metadata": {},
     "output_type": "execute_result"
    }
   ],
   "source": [
    "list(df)"
   ]
  },
  {
   "cell_type": "code",
   "execution_count": 54,
   "id": "3a856356",
   "metadata": {},
   "outputs": [],
   "source": [
    "df = pd.get_dummies(df,dtype=float)"
   ]
  },
  {
   "cell_type": "code",
   "execution_count": 58,
   "id": "a03bb9f1",
   "metadata": {},
   "outputs": [],
   "source": [
    "from sklearn.preprocessing import StandardScaler"
   ]
  },
  {
   "cell_type": "code",
   "execution_count": 59,
   "id": "89594e14",
   "metadata": {},
   "outputs": [],
   "source": [
    "scaler = StandardScaler()"
   ]
  },
  {
   "cell_type": "code",
   "execution_count": 60,
   "id": "4f375fa6",
   "metadata": {},
   "outputs": [
    {
     "data": {
      "text/plain": [
       "array([[ 0.3301143 , -1.22979123, -1.34714315, ..., -0.69059499,\n",
       "         1.36578456, -0.52208706],\n",
       "       [ 0.53652547, -1.16050789, -1.34714315, ..., -0.69059499,\n",
       "         1.36578456, -0.52208706],\n",
       "       [ 0.65602667, -0.88337455, -1.4292782 , ..., -0.69059499,\n",
       "         1.36578456, -0.52208706],\n",
       "       ...,\n",
       "       [-0.96267141, -1.64549124, -1.26500809, ...,  1.44802672,\n",
       "        -0.7321799 , -0.52208706],\n",
       "       [-0.9843989 , -1.64549124, -1.34714315, ...,  1.44802672,\n",
       "        -0.7321799 , -0.52208706],\n",
       "       [-0.94094391, -1.57620791, -1.26500809, ...,  1.44802672,\n",
       "        -0.7321799 , -0.52208706]])"
      ]
     },
     "execution_count": 60,
     "metadata": {},
     "output_type": "execute_result"
    }
   ],
   "source": [
    "scaler.fit_transform(df)"
   ]
  },
  {
   "cell_type": "code",
   "execution_count": 62,
   "id": "342c1a66",
   "metadata": {},
   "outputs": [
    {
     "data": {
      "text/plain": [
       "['pm2.5',\n",
       " 'DEWP',\n",
       " 'TEMP',\n",
       " 'PRES',\n",
       " 'Iws',\n",
       " 'Is',\n",
       " 'Ir',\n",
       " 'cbwd_NE',\n",
       " 'cbwd_NW',\n",
       " 'cbwd_SE',\n",
       " 'cbwd_cv']"
      ]
     },
     "execution_count": 62,
     "metadata": {},
     "output_type": "execute_result"
    }
   ],
   "source": [
    "list(df)"
   ]
  },
  {
   "cell_type": "code",
   "execution_count": 63,
   "id": "8f089cd8",
   "metadata": {},
   "outputs": [],
   "source": [
    "cols = ['DEWP',\n",
    " 'TEMP',\n",
    " 'PRES',\n",
    " 'Iws',\n",
    " 'Is',\n",
    " 'Ir',\n",
    " 'cbwd_NE',\n",
    " 'cbwd_NW',\n",
    " 'cbwd_SE',\n",
    " 'cbwd_cv']"
   ]
  },
  {
   "cell_type": "code",
   "execution_count": 64,
   "id": "29b379e2",
   "metadata": {},
   "outputs": [
    {
     "data": {
      "text/html": [
       "<div>\n",
       "<style scoped>\n",
       "    .dataframe tbody tr th:only-of-type {\n",
       "        vertical-align: middle;\n",
       "    }\n",
       "\n",
       "    .dataframe tbody tr th {\n",
       "        vertical-align: top;\n",
       "    }\n",
       "\n",
       "    .dataframe thead th {\n",
       "        text-align: right;\n",
       "    }\n",
       "</style>\n",
       "<table border=\"1\" class=\"dataframe\">\n",
       "  <thead>\n",
       "    <tr style=\"text-align: right;\">\n",
       "      <th></th>\n",
       "      <th>DEWP</th>\n",
       "      <th>TEMP</th>\n",
       "      <th>PRES</th>\n",
       "      <th>Iws</th>\n",
       "      <th>Is</th>\n",
       "      <th>Ir</th>\n",
       "      <th>cbwd_NE</th>\n",
       "      <th>cbwd_NW</th>\n",
       "      <th>cbwd_SE</th>\n",
       "      <th>cbwd_cv</th>\n",
       "    </tr>\n",
       "    <tr>\n",
       "      <th>date</th>\n",
       "      <th></th>\n",
       "      <th></th>\n",
       "      <th></th>\n",
       "      <th></th>\n",
       "      <th></th>\n",
       "      <th></th>\n",
       "      <th></th>\n",
       "      <th></th>\n",
       "      <th></th>\n",
       "      <th></th>\n",
       "    </tr>\n",
       "  </thead>\n",
       "  <tbody>\n",
       "    <tr>\n",
       "      <th>2010-01-02 00:00:00</th>\n",
       "      <td>-16</td>\n",
       "      <td>-4.0</td>\n",
       "      <td>1020.0</td>\n",
       "      <td>1.79</td>\n",
       "      <td>0</td>\n",
       "      <td>0</td>\n",
       "      <td>0.0</td>\n",
       "      <td>0.0</td>\n",
       "      <td>1.0</td>\n",
       "      <td>0.0</td>\n",
       "    </tr>\n",
       "    <tr>\n",
       "      <th>2010-01-02 01:00:00</th>\n",
       "      <td>-15</td>\n",
       "      <td>-4.0</td>\n",
       "      <td>1020.0</td>\n",
       "      <td>2.68</td>\n",
       "      <td>0</td>\n",
       "      <td>0</td>\n",
       "      <td>0.0</td>\n",
       "      <td>0.0</td>\n",
       "      <td>1.0</td>\n",
       "      <td>0.0</td>\n",
       "    </tr>\n",
       "    <tr>\n",
       "      <th>2010-01-02 02:00:00</th>\n",
       "      <td>-11</td>\n",
       "      <td>-5.0</td>\n",
       "      <td>1021.0</td>\n",
       "      <td>3.57</td>\n",
       "      <td>0</td>\n",
       "      <td>0</td>\n",
       "      <td>0.0</td>\n",
       "      <td>0.0</td>\n",
       "      <td>1.0</td>\n",
       "      <td>0.0</td>\n",
       "    </tr>\n",
       "    <tr>\n",
       "      <th>2010-01-02 03:00:00</th>\n",
       "      <td>-7</td>\n",
       "      <td>-5.0</td>\n",
       "      <td>1022.0</td>\n",
       "      <td>5.36</td>\n",
       "      <td>1</td>\n",
       "      <td>0</td>\n",
       "      <td>0.0</td>\n",
       "      <td>0.0</td>\n",
       "      <td>1.0</td>\n",
       "      <td>0.0</td>\n",
       "    </tr>\n",
       "    <tr>\n",
       "      <th>2010-01-02 04:00:00</th>\n",
       "      <td>-7</td>\n",
       "      <td>-5.0</td>\n",
       "      <td>1022.0</td>\n",
       "      <td>6.25</td>\n",
       "      <td>2</td>\n",
       "      <td>0</td>\n",
       "      <td>0.0</td>\n",
       "      <td>0.0</td>\n",
       "      <td>1.0</td>\n",
       "      <td>0.0</td>\n",
       "    </tr>\n",
       "    <tr>\n",
       "      <th>...</th>\n",
       "      <td>...</td>\n",
       "      <td>...</td>\n",
       "      <td>...</td>\n",
       "      <td>...</td>\n",
       "      <td>...</td>\n",
       "      <td>...</td>\n",
       "      <td>...</td>\n",
       "      <td>...</td>\n",
       "      <td>...</td>\n",
       "      <td>...</td>\n",
       "    </tr>\n",
       "    <tr>\n",
       "      <th>2014-12-31 19:00:00</th>\n",
       "      <td>-23</td>\n",
       "      <td>-2.0</td>\n",
       "      <td>1034.0</td>\n",
       "      <td>231.97</td>\n",
       "      <td>0</td>\n",
       "      <td>0</td>\n",
       "      <td>0.0</td>\n",
       "      <td>1.0</td>\n",
       "      <td>0.0</td>\n",
       "      <td>0.0</td>\n",
       "    </tr>\n",
       "    <tr>\n",
       "      <th>2014-12-31 20:00:00</th>\n",
       "      <td>-22</td>\n",
       "      <td>-3.0</td>\n",
       "      <td>1034.0</td>\n",
       "      <td>237.78</td>\n",
       "      <td>0</td>\n",
       "      <td>0</td>\n",
       "      <td>0.0</td>\n",
       "      <td>1.0</td>\n",
       "      <td>0.0</td>\n",
       "      <td>0.0</td>\n",
       "    </tr>\n",
       "    <tr>\n",
       "      <th>2014-12-31 21:00:00</th>\n",
       "      <td>-22</td>\n",
       "      <td>-3.0</td>\n",
       "      <td>1034.0</td>\n",
       "      <td>242.70</td>\n",
       "      <td>0</td>\n",
       "      <td>0</td>\n",
       "      <td>0.0</td>\n",
       "      <td>1.0</td>\n",
       "      <td>0.0</td>\n",
       "      <td>0.0</td>\n",
       "    </tr>\n",
       "    <tr>\n",
       "      <th>2014-12-31 22:00:00</th>\n",
       "      <td>-22</td>\n",
       "      <td>-4.0</td>\n",
       "      <td>1034.0</td>\n",
       "      <td>246.72</td>\n",
       "      <td>0</td>\n",
       "      <td>0</td>\n",
       "      <td>0.0</td>\n",
       "      <td>1.0</td>\n",
       "      <td>0.0</td>\n",
       "      <td>0.0</td>\n",
       "    </tr>\n",
       "    <tr>\n",
       "      <th>2014-12-31 23:00:00</th>\n",
       "      <td>-21</td>\n",
       "      <td>-3.0</td>\n",
       "      <td>1034.0</td>\n",
       "      <td>249.85</td>\n",
       "      <td>0</td>\n",
       "      <td>0</td>\n",
       "      <td>0.0</td>\n",
       "      <td>1.0</td>\n",
       "      <td>0.0</td>\n",
       "      <td>0.0</td>\n",
       "    </tr>\n",
       "  </tbody>\n",
       "</table>\n",
       "<p>41757 rows × 10 columns</p>\n",
       "</div>"
      ],
      "text/plain": [
       "                     DEWP  TEMP    PRES     Iws  Is  Ir  cbwd_NE  cbwd_NW  \\\n",
       "date                                                                        \n",
       "2010-01-02 00:00:00   -16  -4.0  1020.0    1.79   0   0      0.0      0.0   \n",
       "2010-01-02 01:00:00   -15  -4.0  1020.0    2.68   0   0      0.0      0.0   \n",
       "2010-01-02 02:00:00   -11  -5.0  1021.0    3.57   0   0      0.0      0.0   \n",
       "2010-01-02 03:00:00    -7  -5.0  1022.0    5.36   1   0      0.0      0.0   \n",
       "2010-01-02 04:00:00    -7  -5.0  1022.0    6.25   2   0      0.0      0.0   \n",
       "...                   ...   ...     ...     ...  ..  ..      ...      ...   \n",
       "2014-12-31 19:00:00   -23  -2.0  1034.0  231.97   0   0      0.0      1.0   \n",
       "2014-12-31 20:00:00   -22  -3.0  1034.0  237.78   0   0      0.0      1.0   \n",
       "2014-12-31 21:00:00   -22  -3.0  1034.0  242.70   0   0      0.0      1.0   \n",
       "2014-12-31 22:00:00   -22  -4.0  1034.0  246.72   0   0      0.0      1.0   \n",
       "2014-12-31 23:00:00   -21  -3.0  1034.0  249.85   0   0      0.0      1.0   \n",
       "\n",
       "                     cbwd_SE  cbwd_cv  \n",
       "date                                   \n",
       "2010-01-02 00:00:00      1.0      0.0  \n",
       "2010-01-02 01:00:00      1.0      0.0  \n",
       "2010-01-02 02:00:00      1.0      0.0  \n",
       "2010-01-02 03:00:00      1.0      0.0  \n",
       "2010-01-02 04:00:00      1.0      0.0  \n",
       "...                      ...      ...  \n",
       "2014-12-31 19:00:00      0.0      0.0  \n",
       "2014-12-31 20:00:00      0.0      0.0  \n",
       "2014-12-31 21:00:00      0.0      0.0  \n",
       "2014-12-31 22:00:00      0.0      0.0  \n",
       "2014-12-31 23:00:00      0.0      0.0  \n",
       "\n",
       "[41757 rows x 10 columns]"
      ]
     },
     "execution_count": 64,
     "metadata": {},
     "output_type": "execute_result"
    }
   ],
   "source": [
    "df[cols]"
   ]
  },
  {
   "cell_type": "code",
   "execution_count": 66,
   "id": "a51c18f0",
   "metadata": {},
   "outputs": [],
   "source": [
    "X = scaler.fit_transform(df[cols])"
   ]
  },
  {
   "cell_type": "code",
   "execution_count": 67,
   "id": "64425301",
   "metadata": {},
   "outputs": [],
   "source": [
    "y = df['pm2.5']"
   ]
  },
  {
   "cell_type": "code",
   "execution_count": 68,
   "id": "48dd8a83",
   "metadata": {},
   "outputs": [
    {
     "data": {
      "text/plain": [
       "date\n",
       "2010-01-02 00:00:00    129.0\n",
       "2010-01-02 01:00:00    148.0\n",
       "2010-01-02 02:00:00    159.0\n",
       "2010-01-02 03:00:00    181.0\n",
       "2010-01-02 04:00:00    138.0\n",
       "                       ...  \n",
       "2014-12-31 19:00:00      8.0\n",
       "2014-12-31 20:00:00     10.0\n",
       "2014-12-31 21:00:00     10.0\n",
       "2014-12-31 22:00:00      8.0\n",
       "2014-12-31 23:00:00     12.0\n",
       "Name: pm2.5, Length: 41757, dtype: float64"
      ]
     },
     "execution_count": 68,
     "metadata": {},
     "output_type": "execute_result"
    }
   ],
   "source": [
    "y"
   ]
  },
  {
   "cell_type": "code",
   "execution_count": null,
   "id": "169b8403",
   "metadata": {},
   "outputs": [],
   "source": []
  }
 ],
 "metadata": {
  "kernelspec": {
   "display_name": "Python 3 (ipykernel)",
   "language": "python",
   "name": "python3"
  },
  "language_info": {
   "codemirror_mode": {
    "name": "ipython",
    "version": 3
   },
   "file_extension": ".py",
   "mimetype": "text/x-python",
   "name": "python",
   "nbconvert_exporter": "python",
   "pygments_lexer": "ipython3",
   "version": "3.9.15"
  }
 },
 "nbformat": 4,
 "nbformat_minor": 5
}
